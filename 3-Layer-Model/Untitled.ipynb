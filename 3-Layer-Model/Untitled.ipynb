{
 "cells": [
  {
   "cell_type": "code",
   "execution_count": 3,
   "id": "cf2f0bb5",
   "metadata": {},
   "outputs": [],
   "source": [
    "from DataAcquisition import cand_latlon, resi_lat, resi_lon\n",
    "import numpy as np\n",
    "from sklearn.cluster  import KMeans\n",
    "from random import sample"
   ]
  },
  {
   "cell_type": "markdown",
   "id": "c43f27b7",
   "metadata": {},
   "source": [
    "Define k for the number of transformers we want, get random sample from cand_lat_lon"
   ]
  },
  {
   "cell_type": "code",
   "execution_count": 4,
   "id": "67eb6d55",
   "metadata": {},
   "outputs": [],
   "source": [
    "k = 10\n",
    "sample_ind = sample(range(len(cand_latlon)), k)\n",
    "cand_sample_list = [[cand_latlon[i][0], cand_latlon[i][1]] for i in sample_ind]"
   ]
  },
  {
   "cell_type": "code",
   "execution_count": 5,
   "id": "53e40d32",
   "metadata": {},
   "outputs": [
    {
     "data": {
      "text/plain": [
       "[[32.5270271, 76.1436358],\n",
       " [32.5289602, 76.1394123],\n",
       " [32.527528, 76.1433082],\n",
       " [32.5278726, 76.1414281],\n",
       " [32.5284035, 76.1392404],\n",
       " [32.5302624, 76.1417557],\n",
       " [32.5291121, 76.1408837],\n",
       " [32.5275507, 76.1401781],\n",
       " [32.5290361, 76.1413984],\n",
       " [32.5294965, 76.1416128]]"
      ]
     },
     "execution_count": 5,
     "metadata": {},
     "output_type": "execute_result"
    }
   ],
   "source": [
    "cand_sample_list"
   ]
  },
  {
   "cell_type": "markdown",
   "id": "6d608808",
   "metadata": {},
   "source": [
    "# Preparing for K-Means"
   ]
  },
  {
   "cell_type": "code",
   "execution_count": 6,
   "id": "6520d212",
   "metadata": {},
   "outputs": [],
   "source": [
    "residential = np.array([[resi_lat[i], resi_lon[i]] for i in range(len(resi_lat))])"
   ]
  },
  {
   "cell_type": "code",
   "execution_count": 7,
   "id": "b6982086",
   "metadata": {},
   "outputs": [],
   "source": [
    "residential_cand_site = np.concatenate((residential, np.array(cand_sample_list)))"
   ]
  },
  {
   "cell_type": "markdown",
   "id": "96d8b931",
   "metadata": {},
   "source": [
    "# Kmeans Algorithm"
   ]
  },
  {
   "cell_type": "code",
   "execution_count": 8,
   "id": "b4fd1700",
   "metadata": {},
   "outputs": [],
   "source": [
    "compute = KMeans(n_clusters = k, random_state=0)"
   ]
  },
  {
   "cell_type": "markdown",
   "id": "b6a458d3",
   "metadata": {},
   "source": [
    "### Computing for the first time"
   ]
  },
  {
   "cell_type": "code",
   "execution_count": 9,
   "id": "5a42af72",
   "metadata": {},
   "outputs": [],
   "source": [
    "def returnClusterCenters(points):\n",
    "    return compute.fit(points)"
   ]
  },
  {
   "cell_type": "code",
   "execution_count": 10,
   "id": "2991b3b1",
   "metadata": {},
   "outputs": [],
   "source": [
    "findKmeans = returnClusterCenters(residential_cand_site)"
   ]
  },
  {
   "cell_type": "markdown",
   "id": "28dc8895",
   "metadata": {},
   "source": [
    "# Finding the nearest candidate site"
   ]
  },
  {
   "cell_type": "code",
   "execution_count": 11,
   "id": "128b84e7",
   "metadata": {},
   "outputs": [],
   "source": [
    "from math import inf, sqrt\n",
    "\n",
    "def distance(cor1, cor2):\n",
    "    return sqrt((cor1[0]*cor1[0]-cor2[0]*cor2[0])**2+(cor1[1]*cor1[1]-cor2[1]*cor2[1])**2)\n",
    "\n",
    "def findNearest(curr_clusters):\n",
    "    req = [0 for i in range(k)]\n",
    "    for i in range(k):\n",
    "        tmp = inf\n",
    "        for j in range(len(cand_latlon)):\n",
    "            dis = distance(cand_latlon[j], curr_clusters[i])\n",
    "            if (dis < tmp):\n",
    "                tmp = dis\n",
    "                req[i] = cand_latlon[j]\n",
    "    return req"
   ]
  },
  {
   "cell_type": "markdown",
   "id": "1d471e90",
   "metadata": {},
   "source": [
    "# Running the convergence Algorithm"
   ]
  },
  {
   "cell_type": "code",
   "execution_count": 12,
   "id": "ea782fbb",
   "metadata": {},
   "outputs": [],
   "source": [
    "from time import sleep\n",
    "iters = 10\n",
    "for i in range(iters):\n",
    "    curr_centers = compute.fit(residential_cand_site).cluster_centers_;\n",
    "    curr_cand = findNearest(curr_centers)\n",
    "    residential_cand_site[-k:] = np.array(curr_cand)"
   ]
  },
  {
   "cell_type": "code",
   "execution_count": 13,
   "id": "11d5e57e",
   "metadata": {},
   "outputs": [
    {
     "data": {
      "text/plain": [
       "[(32.5289607, 76.1401036),\n",
       " (32.5302781, 76.1421064),\n",
       " (32.5284811, 76.1413483),\n",
       " (32.5291121, 76.1408837),\n",
       " (32.5277319, 76.1408816),\n",
       " (32.5270271, 76.1436358),\n",
       " (32.5293833, 76.1397259),\n",
       " (32.5275507, 76.1401781),\n",
       " (32.5304523, 76.1410762),\n",
       " (32.5289602, 76.1394123)]"
      ]
     },
     "execution_count": 13,
     "metadata": {},
     "output_type": "execute_result"
    }
   ],
   "source": [
    "curr_cand"
   ]
  },
  {
   "cell_type": "markdown",
   "id": "0eeec2ea",
   "metadata": {},
   "source": [
    "# Visualizing the convergence Algorithm"
   ]
  },
  {
   "cell_type": "code",
   "execution_count": 16,
   "id": "c25916f8",
   "metadata": {},
   "outputs": [
    {
     "ename": "IndentationError",
     "evalue": "unexpected indent (3030662637.py, line 10)",
     "output_type": "error",
     "traceback": [
      "\u001b[0;36m  File \u001b[0;32m\"/tmp/ipykernel_156768/3030662637.py\"\u001b[0;36m, line \u001b[0;32m10\u001b[0m\n\u001b[0;31m    curr_centers = compute.fit(residential_cand_site).cluster_centers_\u001b[0m\n\u001b[0m    ^\u001b[0m\n\u001b[0;31mIndentationError\u001b[0m\u001b[0;31m:\u001b[0m unexpected indent\n"
     ]
    }
   ],
   "source": [
    "# def optimalLocationFinder(k):\n",
    "#     compute = KMeans(n_clusters = k, random_state=0)\n",
    "#     residential = np.array([[resi_lat[i], resi_lon[i]] for i in range(len(resi_lat))])\n",
    "#     extra = compute.fit(residential).cluster_centers_\n",
    "\n",
    "#     residential_cand_site = np.concatenate((residential, np.array(extra)))\n",
    "    \n",
    "#     iters = 100\n",
    "#     for i in range(iters):b\n",
    "#         curr_centers = compute.fit(residential_cand_site).cluster_centers_\n",
    "#         curr_cand = findNearest(curr_centers, k)\n",
    "#         residential_cand_site[-k:] = np.array(curr_cand)"
   ]
  },
  {
   "cell_type": "code",
   "execution_count": 32,
   "id": "427c2ff5",
   "metadata": {},
   "outputs": [
    {
     "data": {
      "text/plain": [
       "<matplotlib.collections.PathCollection at 0x7fd8d6637a00>"
      ]
     },
     "execution_count": 32,
     "metadata": {},
     "output_type": "execute_result"
    },
    {
     "data": {
      "image/png": "[encoded data removed]",
      "text/plain": [
       "<Figure size 432x288 with 1 Axes>"
      ]
     },
     "metadata": {
      "needs_background": "light"
     },
     "output_type": "display_data"
    }
   ],
   "source": [
    "import matplotlib.pyplot as plt\n",
    "x = [residential[i][0] for i in range(len(residential))]\n",
    "y = [residential[i][1] for i in range(len(residential))]\n",
    "xcand = [cand_latlon[i][0] for i in range(len(cand_latlon))]\n",
    "ycand = [cand_latlon[i][1] for i in range(len(cand_latlon))]\n",
    "plt.scatter(y, x, color=\"red\")\n",
    "plt.scatter(ycand, xcand, color=\"blue\")"
   ]
  },
  {
   "cell_type": "code",
   "execution_count": 20,
   "id": "782d8a72",
   "metadata": {},
   "outputs": [
    {
     "data": {
      "text/plain": [
       "[(32.5261692, 76.1445914),\n",
       " (32.5262791, 76.1445771),\n",
       " (32.5263446, 76.1444538),\n",
       " (32.5263627, 76.1441883),\n",
       " (32.5265694, 76.1439772),\n",
       " (32.5270271, 76.1436358),\n",
       " (32.527528, 76.1433082),\n",
       " (32.5280438, 76.1429961),\n",
       " (32.5282134, 76.1428816),\n",
       " (32.5293252, 76.14219),\n",
       " (32.5295705, 76.1420269),\n",
       " (32.5298833, 76.141819),\n",
       " (32.5301484, 76.1416428),\n",
       " (32.5303419, 76.1413681),\n",
       " (32.5304469, 76.141219),\n",
       " (32.5304507, 76.1411026),\n",
       " (32.5304523, 76.1410762),\n",
       " (32.5304568, 76.1409194),\n",
       " (32.5304226, 76.1408242),\n",
       " (32.5303257, 76.1405546),\n",
       " (32.5301312, 76.1402918),\n",
       " (32.5298684, 76.1400944),\n",
       " (32.5295956, 76.1398896),\n",
       " (32.5293833, 76.1397259),\n",
       " (32.529132, 76.1395413),\n",
       " (32.5289602, 76.1394123),\n",
       " (32.5288241, 76.1393101),\n",
       " (32.5286197, 76.1392127),\n",
       " (32.5284035, 76.1392404),\n",
       " (32.5275125, 76.1395998),\n",
       " (32.5274446, 76.1397661),\n",
       " (32.5274615, 76.1398315),\n",
       " (32.5275102, 76.140021),\n",
       " (32.5275507, 76.1401781),\n",
       " (32.5276133, 76.1404211),\n",
       " (32.5277319, 76.1408816),\n",
       " (32.5277926, 76.1411173),\n",
       " (32.5278726, 76.1414281),\n",
       " (32.5279878, 76.1418752),\n",
       " (32.5278675, 76.1403184),\n",
       " (32.5291645, 76.1403537),\n",
       " (32.5287539, 76.1404702),\n",
       " (32.5294226, 76.1411756),\n",
       " (32.5290626, 76.1411094),\n",
       " (32.5287146, 76.1412523),\n",
       " (32.5286638, 76.1412732),\n",
       " (32.5284811, 76.1413483),\n",
       " (32.5282589, 76.1414395),\n",
       " (32.5280981, 76.1415056),\n",
       " (32.5280308, 76.1413581),\n",
       " (32.5284771, 76.1410944),\n",
       " (32.5289391, 76.1409096),\n",
       " (32.5291121, 76.1408837),\n",
       " (32.5297891, 76.1420108),\n",
       " (32.5298838, 76.1419904),\n",
       " (32.5299913, 76.1419445),\n",
       " (32.5301247, 76.1418577),\n",
       " (32.5302624, 76.1417557),\n",
       " (32.5304345, 76.1416179),\n",
       " (32.5305464, 76.1414648),\n",
       " (32.5305381, 76.1413602),\n",
       " (32.5305937, 76.1412402),\n",
       " (32.5306238, 76.1410871),\n",
       " (32.5306324, 76.1409901),\n",
       " (32.5305476, 76.1410593),\n",
       " (32.5288296, 76.1419394),\n",
       " (32.5289802, 76.1418629),\n",
       " (32.5291222, 76.1417914),\n",
       " (32.5293158, 76.1416587),\n",
       " (32.5294965, 76.1416128),\n",
       " (32.5290017, 76.1406125),\n",
       " (32.5289607, 76.1401036),\n",
       " (32.5279227, 76.1405238),\n",
       " (32.5284509, 76.1416026),\n",
       " (32.5285843, 76.1415668),\n",
       " (32.5286488, 76.1416077),\n",
       " (32.5288683, 76.1414954),\n",
       " (32.5290361, 76.1413984),\n",
       " (32.5291887, 76.1413799),\n",
       " (32.5292787, 76.1413345),\n",
       " (32.5301979, 76.1406431),\n",
       " (32.5302667, 76.1406074),\n",
       " (32.5297102, 76.1424463),\n",
       " (32.5300325, 76.1422976),\n",
       " (32.5302781, 76.1421064),\n",
       " (32.5304982, 76.1419243)]"
      ]
     },
     "execution_count": 20,
     "metadata": {},
     "output_type": "execute_result"
    }
   ],
   "source": []
  }
 ],
 "metadata": {
  "kernelspec": {
   "display_name": "Python 3 (ipykernel)",
   "language": "python",
   "name": "python3"
  },
  "language_info": {
   "codemirror_mode": {
    "name": "ipython",
    "version": 3
   },
   "file_extension": ".py",
   "mimetype": "text/x-python",
   "name": "python",
   "nbconvert_exporter": "python",
   "pygments_lexer": "ipython3",
   "version": "3.10.8"
  }
 },
 "nbformat": 4,
 "nbformat_minor": 5
}
