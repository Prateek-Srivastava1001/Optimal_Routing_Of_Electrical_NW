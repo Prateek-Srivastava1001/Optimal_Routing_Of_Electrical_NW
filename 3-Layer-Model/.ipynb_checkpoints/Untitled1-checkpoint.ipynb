{
 "cells": [
  {
   "cell_type": "code",
   "execution_count": 1,
   "id": "34e94e86",
   "metadata": {},
   "outputs": [],
   "source": [
    "from helpers import haversine;\n",
    "\n",
    "from DataAcquisition import cand_latlon, resi_lat, resi_lon\n",
    "import numpy as np\n",
    "from sklearn.cluster  import KMeans\n",
    "from random import sample\n",
    "from math import inf, sqrt"
   ]
  },
  {
   "cell_type": "code",
   "execution_count": 2,
   "id": "c26666cf",
   "metadata": {},
   "outputs": [],
   "source": [
    "residential = np.array([[resi_lat[i], resi_lon[i]] for i in range(len(resi_lat))])\n",
    "\n",
    "def findNearest(curr_clusters, k):\n",
    "    req = [0 for i in range(k)]\n",
    "    for i in range(k):\n",
    "        tmp = inf\n",
    "        for j in range(len(cand_latlon)):\n",
    "            dis = haversine(cand_latlon[j][0], cand_latlon[j][1], curr_clusters[i][0], curr_clusters[i][1])\n",
    "            if (dis < tmp):\n",
    "                tmp = dis\n",
    "                req[i] = cand_latlon[j]\n",
    "    return req\n",
    "\n",
    "# Define k for the number of transformers we want, get random sample from cand_lat_lon\n",
    "# In[144]:\n",
    "\n",
    "def singleIteration(k):\n",
    "    residential = np.array([[resi_lat[i], resi_lon[i]] for i in range(len(resi_lat))])\n",
    "    compute = KMeans(n_clusters = k, random_state=0)\n",
    "    curr = compute.fit(residential)\n",
    "    tmp = findNearest(curr.cluster_centers_)    \n",
    "    lat, lon = zip(*tmp)\n",
    "    return lat, lon\n",
    "\n",
    "\n",
    "def optimalLocationFinder(k, iters):\n",
    "    compute = KMeans(n_clusters = k, random_state=0)\n",
    "    curr_cand = compute.fit(residential).cluster_centers_\n",
    "    residential_cand_site = np.concatenate((residential, np.array(curr_cand)))\n",
    "    for i in range(iters):\n",
    "        curr_centers = compute.fit(residential_cand_site).cluster_centers_;\n",
    "        curr_cand = findNearest(curr_centers, k)\n",
    "        residential_cand_site[-k:] = np.array(curr_cand)\n",
    "    cand_lat, cand_lon = zip(*curr_cand)\n",
    "    return cand_lat, cand_lon"
   ]
  },
  {
   "cell_type": "markdown",
   "id": "af5b9d5f",
   "metadata": {},
   "source": [
    "checking behaviour"
   ]
  },
  {
   "cell_type": "code",
   "execution_count": 3,
   "id": "c556e25b",
   "metadata": {},
   "outputs": [],
   "source": [
    "import matplotlib.pyplot as plt"
   ]
  },
  {
   "cell_type": "code",
   "execution_count": 12,
   "id": "5c626bc2",
   "metadata": {},
   "outputs": [
    {
     "data": {
      "text/plain": [
       "<matplotlib.collections.PathCollection at 0x7f19f1428d00>"
      ]
     },
     "execution_count": 12,
     "metadata": {},
     "output_type": "execute_result"
    },
    {
     "data": {
      "image/png": "[encoded data removed]",
      "text/plain": [
       "<Figure size 432x288 with 1 Axes>"
      ]
     },
     "metadata": {
      "needs_background": "light"
     },
     "output_type": "display_data"
    }
   ],
   "source": [
    "fit, ax = plt.subplots();\n",
    "ax.scatter(resi_lon, resi_lat, color=\"red\")\n",
    "cand_lat, cand_lon = zip(*cand_latlon)\n",
    "ax.scatter(cand_lon, cand_lat, color=\"blue\")\n",
    "\n",
    "curr_lat, curr_lon = optimalLocationFinder(6, 1);\n",
    "ax.scatter(curr_lon, curr_lat)"
   ]
  }
 ],
 "metadata": {
  "kernelspec": {
   "display_name": "Python 3 (ipykernel)",
   "language": "python",
   "name": "python3"
  },
  "language_info": {
   "codemirror_mode": {
    "name": "ipython",
    "version": 3
   },
   "file_extension": ".py",
   "mimetype": "text/x-python",
   "name": "python",
   "nbconvert_exporter": "python",
   "pygments_lexer": "ipython3",
   "version": "3.10.8"
  }
 },
 "nbformat": 4,
 "nbformat_minor": 5
}
